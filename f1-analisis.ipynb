{
 "cells": [
  {
   "cell_type": "markdown",
   "id": "ff67980e",
   "metadata": {},
   "source": [
    "## Librerias"
   ]
  },
  {
   "cell_type": "code",
   "execution_count": 19,
   "id": "e962ab09",
   "metadata": {},
   "outputs": [],
   "source": [
    "import requests\n",
    "import json\n",
    "import pandas as pd \n",
    "import warnings\n",
    "warnings.filterwarnings(\"ignore\")"
   ]
  },
  {
   "cell_type": "markdown",
   "id": "1cbf240f",
   "metadata": {},
   "source": [
    "## Tabla de Races"
   ]
  },
  {
   "cell_type": "code",
   "execution_count": 20,
   "id": "97320981",
   "metadata": {},
   "outputs": [],
   "source": [
    "races={'season':[],\n",
    "       'round':[],\n",
    "      'raceName':[],\n",
    "      'circuitId':[],\n",
    "      'lat':[],\n",
    "      'long':[],\n",
    "      'country':[],\n",
    "      'date':[],\n",
    "      'url':[]}"
   ]
  },
  {
   "cell_type": "code",
   "execution_count": 21,
   "id": "1e6e2d96",
   "metadata": {},
   "outputs": [],
   "source": [
    "for year in list(range(2010,2023)):\n",
    "    url='https://ergast.com/api/f1/{}.json'\n",
    "    response =requests.get(url.format(year))\n",
    "    content= json.loads(response.content)\n",
    "    \n",
    "    for item in content['MRData']['RaceTable']['Races']:\n",
    "        races['season'].append(int(item['season']))\n",
    "        races['round'].append(int(item['round']))\n",
    "        races['raceName'].append(item['raceName'])\n",
    "        races['circuitId'].append(item['Circuit']['circuitId'])\n",
    "        races['lat'].append(item['Circuit']['Location']['lat'])\n",
    "        races['long'].append(item['Circuit']['Location']['long'])\n",
    "        races['country'].append(item['Circuit']['Location']['country'])\n",
    "        races['date'].append(item['date'])\n",
    "        races['url'].append(item['url'])\n",
    "        "
   ]
  },
  {
   "cell_type": "code",
   "execution_count": 22,
   "id": "0d7d4cc1",
   "metadata": {},
   "outputs": [],
   "source": [
    "url='https://ergast.com/api/f1/seasons.json'\n",
    "response =requests.get(url.format(2022))\n",
    "content= json.loads(response.content)"
   ]
  },
  {
   "cell_type": "code",
   "execution_count": 23,
   "id": "c073bd9f",
   "metadata": {},
   "outputs": [],
   "source": [
    "seasons = {'season':[],\n",
    "          'url':[]} "
   ]
  },
  {
   "cell_type": "code",
   "execution_count": 24,
   "id": "b85f275d",
   "metadata": {},
   "outputs": [],
   "source": [
    "for item in content['MRData']['SeasonTable']['Seasons']:\n",
    "    seasons['season'].append(int(item['season']))\n",
    "    seasons['url'].append(item['url'])"
   ]
  },
  {
   "cell_type": "code",
   "execution_count": 25,
   "id": "9150fe27",
   "metadata": {},
   "outputs": [],
   "source": [
    "pd.DataFrame(races).to_csv('races.csv',index=False)"
   ]
  },
  {
   "cell_type": "code",
   "execution_count": 26,
   "id": "4325dcd7",
   "metadata": {},
   "outputs": [],
   "source": [
    "pd.DataFrame(seasons).to_csv('seasons.csv',index=False)"
   ]
  },
  {
   "cell_type": "code",
   "execution_count": null,
   "id": "a139366f",
   "metadata": {},
   "outputs": [],
   "source": []
  },
  {
   "cell_type": "markdown",
   "id": "895d7df8",
   "metadata": {},
   "source": [
    "## Tabla de Resultados"
   ]
  },
  {
   "cell_type": "code",
   "execution_count": 5,
   "id": "b14c4222",
   "metadata": {},
   "outputs": [],
   "source": [
    "df_results_2022= pd.DataFrame()\n",
    "for year in list(range(1,23)):\n",
    "    url='https://ergast.com/api/f1/2022/{}/results.json'\n",
    "    response =requests.get(url.format(year))\n",
    "    content= json.loads(response.content)\n",
    "    df_results_2022= df_results_2022.append(pd.DataFrame(content['MRData']['RaceTable']['Races'][0]['Results']))\n"
   ]
  },
  {
   "cell_type": "code",
   "execution_count": null,
   "id": "7c5e47cc",
   "metadata": {},
   "outputs": [],
   "source": []
  },
  {
   "cell_type": "code",
   "execution_count": null,
   "id": "cfbd3661",
   "metadata": {},
   "outputs": [],
   "source": []
  }
 ],
 "metadata": {
  "kernelspec": {
   "display_name": "Python 3 (ipykernel)",
   "language": "python",
   "name": "python3"
  },
  "language_info": {
   "codemirror_mode": {
    "name": "ipython",
    "version": 3
   },
   "file_extension": ".py",
   "mimetype": "text/x-python",
   "name": "python",
   "nbconvert_exporter": "python",
   "pygments_lexer": "ipython3",
   "version": "3.9.13"
  }
 },
 "nbformat": 4,
 "nbformat_minor": 5
}
